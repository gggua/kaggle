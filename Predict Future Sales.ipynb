{
 "cells": [
  {
   "cell_type": "code",
   "execution_count": 1,
   "metadata": {},
   "outputs": [],
   "source": [
    "import pandas as pd\n",
    "import numpy as np\n",
    "import matplotlib.pyplot as plt\n",
    "import seaborn as sns\n",
    "from sklearn.preprocessing import LabelEncoder\n",
    "from itertools import product\n",
    "pd.set_option('display.max_columns', None)"
   ]
  },
  {
   "cell_type": "code",
   "execution_count": 34,
   "metadata": {},
   "outputs": [],
   "source": [
    "sales_train = pd.read_csv(r'G:\\machine learning\\kaggle\\predict future sales\\\\sales_train.csv')\n",
    "item_categories = pd.read_csv(r'G:\\machine learning\\kaggle\\predict future sales\\\\item_categories-translated.csv')\n",
    "items = pd.read_csv(r'G:\\machine learning\\kaggle\\predict future sales\\\\items.csv')\n",
    "test = pd.read_csv(r'G:\\machine learning\\kaggle\\predict future sales\\\\test.csv')\n",
    "shops = pd.read_csv(r'G:\\machine learning\\kaggle\\predict future sales\\\\shops-translated.csv')"
   ]
  },
  {
   "cell_type": "code",
   "execution_count": null,
   "metadata": {},
   "outputs": [],
   "source": [
    "sales_train['date_block_num'] = sales_train['date_block_num'].astype('int8')\n",
    "sales_train['shop_id'] = sales_train['shop_id'].astype('int16')\n",
    "sales_train['item_id'] = sales_train['item_id'].astype('int16')\n",
    "sales_train['item_price'] = sales_train['item_price'].astype('float16')\n",
    "sales_train['item_cnt_day'] = sales_train['item_cnt_day'].astype('float16')\n",
    "item_categories['item_category_id'] = item_categories['item_category_id'].astype('int16')\n",
    "items['item_id'] = items['item_id'].astype('int16')\n",
    "items['item_category_id'] = items['item_category_id'].astype('int16')\n",
    "test['shop_id'] = test['shop_id'].astype('int16')\n",
    "test['item_id'] = test['item_id'].astype('int16')\n",
    "test['date_block_num'] = 34\n",
    "test['date_block_num'] = test['date_block_num'].astype('int8')"
   ]
  },
  {
   "cell_type": "code",
   "execution_count": null,
   "metadata": {},
   "outputs": [],
   "source": [
    "sub = pd.DataFrame()\n",
    "sub['ID'] = test['ID']\n",
    "test = test.drop(['ID'],axis=1)"
   ]
  },
  {
   "cell_type": "code",
   "execution_count": null,
   "metadata": {},
   "outputs": [],
   "source": [
    "sales_train = sales_train.drop_duplicates()\n",
    "sales_train = sales_train[sales_train['item_price']<=45000]\n",
    "sales_train = sales_train[sales_train['item_cnt_day']<=1000]\n",
    "sales_train.loc[sales_train['shop_id']==0, 'shop_id']=57\n",
    "test.loc[test['shop_id']==0, 'shop_id']=57\n",
    "sales_train.loc[sales_train['shop_id']==1, 'shop_id']=58\n",
    "test.loc[test['shop_id']==1, 'shop_id']=58\n",
    "sales_train.loc[sales_train['shop_id']==10, 'shop_id']=11\n",
    "test.loc[test['shop_id']==10, 'shop_id']=11\n",
    "median = sales_train[(sales_train['shop_id']==32)&(sales_train['item_id']==2973)&(sales_train['date_block_num']==4)&(sales_train['item_price']>0)].item_price.median()\n",
    "sales_train.loc[sales_train['item_price']<=0, 'item_price'] = median"
   ]
  },
  {
   "cell_type": "code",
   "execution_count": null,
   "metadata": {},
   "outputs": [],
   "source": [
    "shops['city'] = shops['shop_name_translated'].apply(lambda x:x.split(' ')[0])\n",
    "shops['city_code'] = LabelEncoder().fit_transform(shops['city'])\n",
    "shops = shops[['shop_id', 'city_code']]"
   ]
  },
  {
   "cell_type": "code",
   "execution_count": null,
   "metadata": {},
   "outputs": [],
   "source": [
    "item_categories['item_name'] = item_categories['item_category_name_translated'].apply(lambda x:x.split(' - ')[0].strip())\n",
    "item_categories['item_name_code'] = LabelEncoder().fit_transform(item_categories['item_name'])\n",
    "item_categories['item_subname'] = item_categories['item_category_name_translated'].apply(lambda x:x.split(' - ')[-1].strip())\n",
    "item_categories['item_subname_code'] = LabelEncoder().fit_transform(item_categories['item_subname'])\n",
    "item_categories = item_categories.drop(['item_category_name_translated','item_name','item_subname'],axis=1)"
   ]
  },
  {
   "cell_type": "code",
   "execution_count": null,
   "metadata": {},
   "outputs": [],
   "source": [
    "cols = ['date_block_num', 'shop_id', 'item_id']\n",
    "combine_items = []\n",
    "for i in range(34):\n",
    "    sales = sales_train[sales_train['date_block_num']==i]\n",
    "    combine_items.append(np.array(list(product([i], sales['shop_id'].unique(), sales['item_id'].unique())),dtype='int16'))\n",
    "combine_items = pd.DataFrame(np.vstack(combine_items),columns=cols)\n",
    "combine_items['date_block_num'] = combine_items['date_block_num'].astype('int8')\n",
    "combine_items['shop_id'] = combine_items['shop_id'].astype('int16')\n",
    "combine_items['item_id'] = combine_items['item_id'].astype('int16')\n",
    "combine_items.sort_values(cols,inplace=True)\n",
    "combine_items = combine_items.reset_index(drop=True)"
   ]
  },
  {
   "cell_type": "code",
   "execution_count": null,
   "metadata": {},
   "outputs": [],
   "source": [
    "sales_train['revenue'] = sales_train['item_price']*sales_train['item_cnt_day']"
   ]
  },
  {
   "cell_type": "code",
   "execution_count": null,
   "metadata": {},
   "outputs": [],
   "source": [
    "group = sales_train.groupby(['date_block_num','shop_id','item_id']).agg({'item_cnt_day': ['sum']})\n",
    "group.columns = ['item_cnt_month']\n",
    "group.reset_index(inplace=True)\n",
    "\n",
    "combine_items = pd.merge(combine_items, group, on=['date_block_num','shop_id','item_id'], how='left')\n",
    "combine_items['item_cnt_month'] = combine_items['item_cnt_month'].fillna(0).clip(0,20).astype(np.float16)"
   ]
  },
  {
   "cell_type": "code",
   "execution_count": null,
   "metadata": {},
   "outputs": [],
   "source": [
    "test_size = len(test)\n",
    "all_data = pd.concat([combine_items, test],ignore_index=True, sort=False,keys=cols)\n",
    "all_data.fillna(0, inplace=True)"
   ]
  },
  {
   "cell_type": "code",
   "execution_count": null,
   "metadata": {},
   "outputs": [],
   "source": [
    "items_cats = pd.merge(items, item_categories, on=['item_category_id'], how='left')\n",
    "items_cats = items_cats.drop(['item_name'], axis=1)\n",
    "all_data = pd.merge(all_data, shops, on=['shop_id'], how='left')\n",
    "all_data = pd.merge(all_data, items_cats, on=['item_id'], how='left')\n",
    "\n",
    "all_data['city_code'] = all_data['city_code'].astype('int16')\n",
    "all_data['item_name_code'] = all_data['item_name_code'].astype('int16')\n",
    "all_data['item_subname_code'] = all_data['item_subname_code'].astype('int16')"
   ]
  },
  {
   "cell_type": "code",
   "execution_count": null,
   "metadata": {},
   "outputs": [],
   "source": [
    "def lag_feature(df, lags, cols):\n",
    "    temp = df[['date_block_num', 'shop_id', 'item_id', cols]]\n",
    "    for i in lags:\n",
    "        shifted = temp.copy()\n",
    "        shifted.columns = ['date_block_num', 'shop_id', 'item_id', cols+'_lag_'+str(i)]\n",
    "        shifted['date_block_num'] += i\n",
    "        df = pd.merge(df, shifted, on=['date_block_num', 'shop_id', 'item_id'], how='left')\n",
    "    return df\n",
    "\n",
    "all_data = lag_feature(all_data, [1,2,3,6,12], 'item_cnt_month')"
   ]
  },
  {
   "cell_type": "code",
   "execution_count": null,
   "metadata": {},
   "outputs": [],
   "source": [
    "group = all_data.groupby(['date_block_num', 'shop_id']).agg({'item_cnt_month':['mean']})\n",
    "group.columns = ['shop_month_avg_cnt']\n",
    "group.reset_index(inplace=True)\n",
    "\n",
    "all_data = pd.merge(all_data, group, on=['date_block_num', 'shop_id'], how='left')\n",
    "all_data = lag_feature(all_data,[1,2,3,6,12], 'shop_month_avg_cnt')\n",
    "all_data = all_data.drop(['shop_month_avg_cnt'],axis=1)"
   ]
  },
  {
   "cell_type": "code",
   "execution_count": null,
   "metadata": {},
   "outputs": [],
   "source": [
    "group = all_data.groupby(['date_block_num', 'item_id']).agg({'item_cnt_month':['mean']})\n",
    "group.columns = ['item_month_avg_cnt']\n",
    "group.reset_index(inplace=True)\n",
    "\n",
    "all_data = pd.merge(all_data, group,on=['date_block_num', 'item_id'], how='left')\n",
    "all_data = lag_feature(all_data,[1,2,3,6,12], 'item_month_avg_cnt')\n",
    "all_data = all_data.drop(['item_month_avg_cnt'],axis=1)"
   ]
  },
  {
   "cell_type": "code",
   "execution_count": null,
   "metadata": {},
   "outputs": [],
   "source": [
    "group = all_data.groupby(['date_block_num']).agg({'item_cnt_month':['mean']})\n",
    "group.columns = ['month_avg_cnt']\n",
    "group.reset_index(inplace=True)\n",
    "\n",
    "all_data = pd.merge(all_data, group,on=['date_block_num'], how='left')\n",
    "all_data = lag_feature(all_data,[1,2], 'month_avg_cnt')\n",
    "all_data = all_data.drop(['month_avg_cnt'],axis=1)"
   ]
  },
  {
   "cell_type": "code",
   "execution_count": null,
   "metadata": {},
   "outputs": [],
   "source": [
    "group = all_data.groupby(['date_block_num','city_code']).agg({'item_cnt_month':['mean']})\n",
    "group.columns = ['city_avg_cnt']\n",
    "group.reset_index(inplace=True)\n",
    "\n",
    "all_data = pd.merge(all_data, group,on=['date_block_num', 'city_code'], how='left')\n",
    "all_data = lag_feature(all_data,[1,2], 'city_avg_cnt')\n",
    "all_data = all_data.drop(['city_avg_cnt'],axis=1)"
   ]
  },
  {
   "cell_type": "code",
   "execution_count": null,
   "metadata": {},
   "outputs": [],
   "source": [
    "group = all_data.groupby(['date_block_num','item_name_code']).agg({'item_cnt_month':['mean']})\n",
    "group.columns = ['item_name_avg_cnt']\n",
    "group.reset_index(inplace=True)\n",
    "\n",
    "all_data = pd.merge(all_data, group,on=['date_block_num', 'item_name_code'], how='left')\n",
    "all_data = lag_feature(all_data,[1,2], 'item_name_avg_cnt')\n",
    "all_data = all_data.drop(['item_name_avg_cnt'],axis=1)"
   ]
  },
  {
   "cell_type": "code",
   "execution_count": null,
   "metadata": {},
   "outputs": [],
   "source": [
    "group = all_data.groupby(['date_block_num','item_subname_code']).agg({'item_cnt_month':['mean']})\n",
    "group.columns = ['item_subname_avg_cnt']\n",
    "group.reset_index(inplace=True)\n",
    "\n",
    "all_data = pd.merge(all_data, group,on=['date_block_num', 'item_subname_code'], how='left')\n",
    "all_data = lag_feature(all_data,[1,2], 'item_subname_avg_cnt')\n",
    "all_data = all_data.drop(['item_subname_avg_cnt'],axis=1)"
   ]
  },
  {
   "cell_type": "code",
   "execution_count": null,
   "metadata": {},
   "outputs": [],
   "source": [
    "group = all_data.groupby(['date_block_num','shop_id','item_name_code']).agg({'item_cnt_month':['mean']})\n",
    "group.columns = ['shop_item_name_avg_cnt']\n",
    "group.reset_index(inplace=True)\n",
    "\n",
    "all_data = pd.merge(all_data, group,on=['date_block_num', 'shop_id', 'item_name_code'], how='left')\n",
    "all_data = lag_feature(all_data,[1,2], 'shop_item_name_avg_cnt')\n",
    "all_data = all_data.drop(['shop_item_name_avg_cnt'],axis=1)"
   ]
  },
  {
   "cell_type": "code",
   "execution_count": null,
   "metadata": {},
   "outputs": [],
   "source": [
    "group = all_data.groupby(['date_block_num','shop_id','item_subname_code']).agg({'item_cnt_month':['mean']})\n",
    "group.columns = ['shop_item_subname_avg_cnt']\n",
    "group.reset_index(inplace=True)\n",
    "\n",
    "all_data = pd.merge(all_data, group,on=['date_block_num', 'shop_id','item_subname_code'], how='left')\n",
    "all_data = lag_feature(all_data,[1,2], 'shop_item_subname_avg_cnt')\n",
    "all_data = all_data.drop(['shop_item_subname_avg_cnt'],axis=1)"
   ]
  },
  {
   "cell_type": "code",
   "execution_count": null,
   "metadata": {},
   "outputs": [],
   "source": [
    "group = all_data.groupby(['date_block_num','shop_id','city_code']).agg({'item_cnt_month':['mean']})\n",
    "group.columns = ['shop_city_avg_cnt']\n",
    "group.reset_index(inplace=True)\n",
    "\n",
    "all_data = pd.merge(all_data, group,on=['date_block_num', 'shop_id','city_code'], how='left')\n",
    "all_data = lag_feature(all_data,[1,2], 'shop_city_avg_cnt')\n",
    "all_data = all_data.drop(['shop_city_avg_cnt'],axis=1)"
   ]
  },
  {
   "cell_type": "code",
   "execution_count": null,
   "metadata": {},
   "outputs": [],
   "source": [
    "group = all_data.groupby(['date_block_num','item_id','city_code']).agg({'item_cnt_month':['mean']})\n",
    "group.columns = ['item_city_avg_cnt']\n",
    "group.reset_index(inplace=True)\n",
    "\n",
    "all_data = pd.merge(all_data, group,on=['date_block_num', 'item_id','city_code'], how='left')\n",
    "all_data = lag_feature(all_data,[1,2], 'item_city_avg_cnt')\n",
    "all_data = all_data.drop(['item_city_avg_cnt'],axis=1)"
   ]
  },
  {
   "cell_type": "code",
   "execution_count": null,
   "metadata": {},
   "outputs": [],
   "source": [
    "group = sales_train.groupby(['date_block_num','item_id']).agg({'item_price':['mean']})\n",
    "group.columns = ['date_item_avg_price']\n",
    "group.reset_index(inplace=True)\n",
    "\n",
    "all_data = pd.merge(all_data, group, on=['date_block_num', 'item_id'], how='left')\n",
    "all_data = lag_feature(all_data, [1,2,3,4,5,6], 'date_item_avg_price')\n",
    "all_data = all_data.drop(['date_item_avg_price'],axis=1)"
   ]
  },
  {
   "cell_type": "code",
   "execution_count": null,
   "metadata": {},
   "outputs": [],
   "source": [
    "group = sales_train.groupby(['item_id']).agg({'item_price':['mean']})\n",
    "group.columns=['item_avg_price']\n",
    "group.reset_index(inplace=True)\n",
    "all_data = pd.merge(all_data, group, on=['item_id'], how='left')"
   ]
  },
  {
   "cell_type": "code",
   "execution_count": null,
   "metadata": {},
   "outputs": [],
   "source": [
    "for i in range(1,7):\n",
    "    all_data['delta_price_lag_'+str(i)] = (all_data['date_item_avg_price_lag_'+str(i)] - all_data['item_avg_price'])/all_data['item_avg_price']\n",
    "def select_trend(row):\n",
    "    for i in [1,2,3,4,5,6]:\n",
    "        if row['delta_price_lag_'+str(i)]:\n",
    "            return row['delta_price_lag_'+str(i)]\n",
    "    return 0\n",
    "    \n",
    "all_data['delta_price_lag'] = all_data.apply(select_trend, axis=1)\n",
    "all_data['delta_price_lag'] = all_data['delta_price_lag'].astype(np.float16)\n",
    "all_data['delta_price_lag'].fillna(0, inplace=True)\n",
    "# all_data['delta_price_lag'] = all_data[['delta_price_lag_1', 'delta_price_lag_2', 'delta_price_lag_3', 'delta_price_lag_4', 'delta_price_lag_5', 'delta_price_lag_6']].bfill(axis=1).iloc[:,0]\n",
    "drop_features = ['item_avg_price']\n",
    "for i in range(1,7):\n",
    "    drop_features.append('date_item_avg_price_lag_'+str(i))\n",
    "    drop_features.append('delta_price_lag_'+str(i))\n",
    "all_data = all_data.drop(columns=drop_features)"
   ]
  },
  {
   "cell_type": "code",
   "execution_count": null,
   "metadata": {},
   "outputs": [],
   "source": [
    "group = sales_train.groupby(['date_block_num','shop_id']).agg({'revenue':['sum']})\n",
    "group.columns = ['date_shop_revenue']\n",
    "group.reset_index(inplace=True)\n",
    "all_data = pd.merge(all_data, group, on=['date_block_num', 'shop_id'], how='left')\n",
    "\n",
    "group = all_data.groupby(['shop_id']).agg({'date_shop_revenue':['mean']})\n",
    "group.columns = ['shop_avg_revenue']\n",
    "group.reset_index(inplace=True)\n",
    "all_data = pd.merge(all_data, group, on=['shop_id'], how='left')\n",
    "\n",
    "all_data['delta_revenue'] = (all_data['date_shop_revenue'] - all_data['shop_avg_revenue'])/all_data['shop_avg_revenue']\n",
    "all_data = lag_feature(all_data, [1], 'delta_revenue')\n",
    "all_data = all_data.drop(['date_shop_revenue', 'shop_avg_revenue', 'delta_revenue'],axis=1)"
   ]
  },
  {
   "cell_type": "code",
   "execution_count": null,
   "metadata": {},
   "outputs": [],
   "source": [
    "all_data['month'] = (all_data['date_block_num']+1)%12\n",
    "days = pd.Series([31,28,31,30,31,30,31,31,30,31,30,31])\n",
    "all_data['day'] = all_data['month'].map(days).astype('int8')"
   ]
  },
  {
   "cell_type": "code",
   "execution_count": null,
   "metadata": {},
   "outputs": [],
   "source": [
    "temp = all_data[all_data['date_block_num']>11]\n",
    "temp = temp.drop(['delta_revenue_lag_1'], axis=1)\n",
    "temp = temp.fillna(0)"
   ]
  },
  {
   "cell_type": "code",
   "execution_count": null,
   "metadata": {},
   "outputs": [],
   "source": [
    "X = temp[temp['date_block_num']<34]\n",
    "Y = X['item_cnt_month']\n",
    "X = X.drop(['item_cnt_month'], axis=1)\n",
    "test = temp[temp['date_block_num']==34]\n",
    "test = test.drop(['item_cnt_month'], axis=1)"
   ]
  },
  {
   "cell_type": "code",
   "execution_count": null,
   "metadata": {},
   "outputs": [],
   "source": [
    "from sklearn.model_selection import train_test_split\n",
    "from lightgbm.sklearn import LGBMRegressor\n",
    "from sklearn.metrics import mean_squared_error\n",
    "from sklearn.model_selection import KFold\n",
    "kfold = KFold(n_splits=15, shuffle = True, random_state= 12)\n",
    "lgb_model = LGBMRegressor(n_jobs=-1,\n",
    "                          learning_rate=0.05,\n",
    "                          n_estimators=1000,\n",
    "                          max_depth=6,\n",
    "                          num_leaves=63,\n",
    "                          reg_alpha=1, \n",
    "                          reg_lambda=1,\n",
    "                          min_child_samples=128,\n",
    "                          min_split_gain=0.5,\n",
    "                          colsample_bytree=0.6)\n",
    "for train, test in kfold.split(X):\n",
    "    X_train = X.iloc[train]\n",
    "    y_train = Y.iloc[train]\n",
    "    X_test = X.iloc[test]\n",
    "    y_test = Y.iloc[test]\n",
    "    lgb_model.fit(X_train,y_train)\n",
    "    y_pred = lgb_model.predict(X=X_test)\n",
    "    e = mean_squared_error(y_true=y_test,y_pred=y_pred)\n",
    "    print(e)"
   ]
  },
  {
   "cell_type": "code",
   "execution_count": null,
   "metadata": {},
   "outputs": [],
   "source": [
    "lgb_pred = lgb_model.predict(test)\n",
    "sub['item_cnt_month'] = lgb_pred\n",
    "sub.to_csv('lgb_submission.csv', index=False)"
   ]
  }
 ],
 "metadata": {
  "kernelspec": {
   "display_name": "Python 3",
   "language": "python",
   "name": "python3"
  },
  "language_info": {
   "codemirror_mode": {
    "name": "ipython",
    "version": 3
   },
   "file_extension": ".py",
   "mimetype": "text/x-python",
   "name": "python",
   "nbconvert_exporter": "python",
   "pygments_lexer": "ipython3",
   "version": "3.6.5"
  }
 },
 "nbformat": 4,
 "nbformat_minor": 2
}
